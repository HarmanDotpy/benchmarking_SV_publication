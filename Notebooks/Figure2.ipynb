{
 "cells": [
  {
   "cell_type": "code",
   "execution_count": 1,
   "metadata": {},
   "outputs": [],
   "source": [
    "import pandas as pd\n",
    "import allel\n",
    "import numpy as np\n",
    "import matplotlib.pyplot as plt\n",
    "import seaborn as sns\n",
    "import scipy as sp\n",
    "from scipy import stats"
   ]
  },
  {
   "cell_type": "code",
   "execution_count": 2,
   "metadata": {},
   "outputs": [],
   "source": [
    "df=pd.read_csv('../Data/analysis_files/df_fig1.csv')"
   ]
  },
  {
   "cell_type": "code",
   "execution_count": 3,
   "metadata": {},
   "outputs": [],
   "source": [
    "color_map = {'BioGraph*':'yellowgreen', 'breakdancer':'peru', 'clever':'gold', 'delly':'darkorange', 'delly':'mediumorchid', \n",
    "             'gasv':'firebrick', 'gridss':'cornflowerblue', 'indelminer':'forestgreen', \n",
    "             'mistrvar':'salmon', 'pindel':'darkorange', 'popdel':'navy', 'rdxplorer':'darkgray', \n",
    "             'smoove':'orangered',  'true deletions':'black',  'crest':'red', 'genomestrip':'pink','manta_candidateSV':'aqua'}"
   ]
  },
  {
   "cell_type": "code",
   "execution_count": 4,
   "metadata": {},
   "outputs": [
    {
     "data": {
      "text/html": [
       "<div>\n",
       "<style scoped>\n",
       "    .dataframe tbody tr th:only-of-type {\n",
       "        vertical-align: middle;\n",
       "    }\n",
       "\n",
       "    .dataframe tbody tr th {\n",
       "        vertical-align: top;\n",
       "    }\n",
       "\n",
       "    .dataframe thead th {\n",
       "        text-align: right;\n",
       "    }\n",
       "</style>\n",
       "<table border=\"1\" class=\"dataframe\">\n",
       "  <thead>\n",
       "    <tr style=\"text-align: right;\">\n",
       "      <th></th>\n",
       "      <th>tool</th>\n",
       "      <th>strain</th>\n",
       "      <th>length</th>\n",
       "    </tr>\n",
       "  </thead>\n",
       "  <tbody>\n",
       "    <tr>\n",
       "      <th>0</th>\n",
       "      <td>true deletions</td>\n",
       "      <td>LP_J</td>\n",
       "      <td>730</td>\n",
       "    </tr>\n",
       "    <tr>\n",
       "      <th>1</th>\n",
       "      <td>true deletions</td>\n",
       "      <td>LP_J</td>\n",
       "      <td>2613</td>\n",
       "    </tr>\n",
       "    <tr>\n",
       "      <th>2</th>\n",
       "      <td>true deletions</td>\n",
       "      <td>LP_J</td>\n",
       "      <td>1341</td>\n",
       "    </tr>\n",
       "    <tr>\n",
       "      <th>3</th>\n",
       "      <td>true deletions</td>\n",
       "      <td>LP_J</td>\n",
       "      <td>226</td>\n",
       "    </tr>\n",
       "    <tr>\n",
       "      <th>4</th>\n",
       "      <td>true deletions</td>\n",
       "      <td>LP_J</td>\n",
       "      <td>725</td>\n",
       "    </tr>\n",
       "  </tbody>\n",
       "</table>\n",
       "</div>"
      ],
      "text/plain": [
       "             tool strain  length\n",
       "0  true deletions   LP_J     730\n",
       "1  true deletions   LP_J    2613\n",
       "2  true deletions   LP_J    1341\n",
       "3  true deletions   LP_J     226\n",
       "4  true deletions   LP_J     725"
      ]
     },
     "execution_count": 4,
     "metadata": {},
     "output_type": "execute_result"
    }
   ],
   "source": [
    "df.head()"
   ]
  },
  {
   "cell_type": "code",
   "execution_count": 5,
   "metadata": {},
   "outputs": [],
   "source": [
    "tools=['pindel','clever','mistrvar','indelminer', 'BioGraph*', 'gridss','breakdancer','true deletions','smoove','delly','rdxplorer','popdel','gasv','crest','genomestrip','manta_candidateSV']"
   ]
  },
  {
   "cell_type": "code",
   "execution_count": 16,
   "metadata": {},
   "outputs": [
    {
     "name": "stdout",
     "output_type": "stream",
     "text": [
      "pindel\n",
      "64721\n",
      "Ttest_indResult(statistic=array([-55.10535415]), pvalue=array([0.]))\n",
      "clever\n",
      "12773\n",
      "Ttest_indResult(statistic=array([-19.73362112]), pvalue=array([1.08060124e-85]))\n",
      "mistrvar\n",
      "1943\n",
      "Ttest_indResult(statistic=array([-9.07830769]), pvalue=array([1.49573625e-19]))\n",
      "indelminer\n",
      "899\n",
      "Ttest_indResult(statistic=array([-3.98636665]), pvalue=array([6.81311769e-05]))\n",
      "BioGraph*\n",
      "3175\n",
      "Ttest_indResult(statistic=array([4.01280569]), pvalue=array([6.06375233e-05]))\n",
      "gridss\n",
      "4084\n",
      "Ttest_indResult(statistic=array([3.72549995]), pvalue=array([0.00019631]))\n",
      "breakdancer\n",
      "3542\n",
      "Ttest_indResult(statistic=array([1.74644991]), pvalue=array([0.08077515]))\n",
      "true deletions\n",
      "3710\n",
      "Ttest_indResult(statistic=array([0.]), pvalue=array([1.]))\n",
      "smoove\n",
      "3007\n",
      "Ttest_indResult(statistic=array([2.49836041]), pvalue=array([0.01250065]))\n",
      "delly\n",
      "3910\n",
      "Ttest_indResult(statistic=array([6.59260332]), pvalue=array([4.61008023e-11]))\n",
      "rdxplorer\n",
      "18531\n",
      "Ttest_indResult(statistic=array([-7.36821483]), pvalue=array([1.78960419e-13]))\n",
      "popdel\n",
      "1625\n",
      "Ttest_indResult(statistic=array([3.49423767]), pvalue=array([0.00047928]))\n",
      "gasv\n",
      "82225\n",
      "Ttest_indResult(statistic=array([0.51357427]), pvalue=array([0.60755099]))\n",
      "crest\n",
      "2156\n",
      "Ttest_indResult(statistic=array([10.10520117]), pvalue=array([8.20008706e-24]))\n",
      "genomestrip\n",
      "1537\n",
      "Ttest_indResult(statistic=array([13.70259562]), pvalue=array([5.14607943e-42]))\n",
      "manta_candidateSV\n",
      "6044\n",
      "Ttest_indResult(statistic=array([2.39373746]), pvalue=array([0.01669646]))\n"
     ]
    }
   ],
   "source": [
    "for t in tools:\n",
    "    tl=df.loc[df['tool'] == t]\n",
    "    t1=tl[['length']]\n",
    "    tx=t1.values\n",
    "    print(t)\n",
    "    print(len(tx))\n",
    "    print(stats.ttest_ind(tx,y))"
   ]
  },
  {
   "cell_type": "code",
   "execution_count": 17,
   "metadata": {},
   "outputs": [
    {
     "name": "stdout",
     "output_type": "stream",
     "text": [
      "pindel\n",
      "64721\n",
      "MannwhitneyuResult(statistic=6881422.5, pvalue=0.0)\n",
      "clever\n",
      "12773\n",
      "MannwhitneyuResult(statistic=7688728.5, pvalue=0.0)\n",
      "mistrvar\n",
      "1943\n",
      "MannwhitneyuResult(statistic=1219713.5, pvalue=0.0)\n",
      "indelminer\n",
      "899\n",
      "MannwhitneyuResult(statistic=886290.0, pvalue=6.224956556172518e-106)\n",
      "BioGraph*\n",
      "3175\n",
      "MannwhitneyuResult(statistic=4129018.5, pvalue=4.868733643411935e-102)\n",
      "gridss\n",
      "4084\n",
      "MannwhitneyuResult(statistic=7192811.5, pvalue=5.65401157723429e-05)\n",
      "breakdancer\n",
      "3542\n",
      "MannwhitneyuResult(statistic=5135619.0, pvalue=1.2877291581323268e-58)\n",
      "true deletions\n",
      "3710\n",
      "MannwhitneyuResult(statistic=6882050.0, pvalue=0.4999978379419172)\n",
      "smoove\n",
      "3007\n",
      "MannwhitneyuResult(statistic=5444179.5, pvalue=0.04521531322259414)\n",
      "delly\n",
      "3910\n",
      "MannwhitneyuResult(statistic=6897611.5, pvalue=0.0001064589628921729)\n",
      "rdxplorer\n",
      "18531\n",
      "MannwhitneyuResult(statistic=22133096.0, pvalue=6.884643535189511e-259)\n",
      "popdel\n",
      "1625\n",
      "MannwhitneyuResult(statistic=1762771.5, pvalue=2.122978749583085e-129)\n",
      "gasv\n",
      "82225\n",
      "MannwhitneyuResult(statistic=89565850.0, pvalue=0.0)\n",
      "crest\n",
      "2156\n",
      "MannwhitneyuResult(statistic=2946911.0, pvalue=7.36990374222765e-64)\n",
      "genomestrip\n",
      "1537\n",
      "MannwhitneyuResult(statistic=909112.0, pvalue=0.0)\n",
      "manta_candidateSV\n",
      "6044\n",
      "MannwhitneyuResult(statistic=8279447.5, pvalue=6.933060452502738e-105)\n"
     ]
    }
   ],
   "source": [
    "for t in tools:\n",
    "    tl=df.loc[df['tool'] == t]\n",
    "    t1=tl[['length']]\n",
    "    tx=t1.values\n",
    "    print(t)\n",
    "    print(len(tx))\n",
    "    print(sp.stats.mannwhitneyu(tx,y))"
   ]
  },
  {
   "cell_type": "code",
   "execution_count": 7,
   "metadata": {},
   "outputs": [
    {
     "data": {
      "text/plain": [
       "array([[79],\n",
       "       [50],\n",
       "       [88],\n",
       "       ...,\n",
       "       [99],\n",
       "       [52],\n",
       "       [88]])"
      ]
     },
     "execution_count": 7,
     "metadata": {},
     "output_type": "execute_result"
    }
   ],
   "source": [
    "tx"
   ]
  },
  {
   "cell_type": "code",
   "execution_count": 8,
   "metadata": {},
   "outputs": [],
   "source": [
    "test=[1,2,3,4]"
   ]
  },
  {
   "cell_type": "code",
   "execution_count": 9,
   "metadata": {},
   "outputs": [
    {
     "data": {
      "text/plain": [
       "Ttest_indResult(statistic=0.0, pvalue=1.0)"
      ]
     },
     "execution_count": 9,
     "metadata": {},
     "output_type": "execute_result"
    }
   ],
   "source": [
    "(stats.ttest_ind(test,test))"
   ]
  },
  {
   "cell_type": "code",
   "execution_count": 10,
   "metadata": {},
   "outputs": [],
   "source": [
    "\n",
    "smoove=df.loc[df['tool'] == 'smoove']\n",
    "smoove1 = smoove[['length']]"
   ]
  },
  {
   "cell_type": "code",
   "execution_count": 11,
   "metadata": {},
   "outputs": [],
   "source": [
    "smoove1\n",
    "x=smoove1.values"
   ]
  },
  {
   "cell_type": "code",
   "execution_count": 12,
   "metadata": {},
   "outputs": [],
   "source": [
    "true=df.loc[df['tool'] == 'true deletions']\n",
    "true1 = true[['length']]"
   ]
  },
  {
   "cell_type": "code",
   "execution_count": 13,
   "metadata": {},
   "outputs": [],
   "source": [
    "y=true1.values"
   ]
  },
  {
   "cell_type": "code",
   "execution_count": 14,
   "metadata": {},
   "outputs": [
    {
     "data": {
      "text/plain": [
       "array([[2457],\n",
       "       [1726],\n",
       "       [ 578],\n",
       "       ...,\n",
       "       [ 593],\n",
       "       [  51],\n",
       "       [ 216]])"
      ]
     },
     "execution_count": 14,
     "metadata": {},
     "output_type": "execute_result"
    }
   ],
   "source": [
    "x"
   ]
  },
  {
   "cell_type": "code",
   "execution_count": 15,
   "metadata": {},
   "outputs": [
    {
     "data": {
      "text/plain": [
       "MannwhitneyuResult(statistic=6882050.0, pvalue=0.4999978379419172)"
      ]
     },
     "execution_count": 15,
     "metadata": {},
     "output_type": "execute_result"
    }
   ],
   "source": [
    "#try t-test\n",
    "sp.stats.mannwhitneyu(y,y)"
   ]
  },
  {
   "cell_type": "code",
   "execution_count": 18,
   "metadata": {},
   "outputs": [
    {
     "name": "stdout",
     "output_type": "stream",
     "text": [
      "Tool\n",
      "BioGraph*          201.0\n",
      "BreakDancer        392.0\n",
      "CLEVER             107.0\n",
      "CREST              548.5\n",
      "DELLY              473.0\n",
      "GASV              1404.0\n",
      "GRIDSS             334.5\n",
      "GenomeSTRiP       3060.0\n",
      "LUMPY              430.0\n",
      "Manta              209.0\n",
      "MiStrVar           117.0\n",
      "Pindel              64.0\n",
      "PopDel             963.0\n",
      "RDXplorer          799.0\n",
      "indelMINER         198.0\n",
      "true deletions     398.0\n",
      "Name: length, dtype: float64\n",
      "Index(['GenomeSTRiP', 'GASV', 'PopDel', 'RDXplorer', 'CREST', 'DELLY', 'LUMPY',\n",
      "       'true deletions', 'BreakDancer', 'GRIDSS', 'Manta', 'BioGraph*',\n",
      "       'indelMINER', 'MiStrVar', 'CLEVER', 'Pindel'],\n",
      "      dtype='object', name='Tool')\n"
     ]
    },
    {
     "name": "stderr",
     "output_type": "stream",
     "text": [
      "The PostScript backend does not support transparency; partially transparent artists will be rendered opaque.\n",
      "The PostScript backend does not support transparency; partially transparent artists will be rendered opaque.\n",
      "The PostScript backend does not support transparency; partially transparent artists will be rendered opaque.\n",
      "The PostScript backend does not support transparency; partially transparent artists will be rendered opaque.\n",
      "The PostScript backend does not support transparency; partially transparent artists will be rendered opaque.\n",
      "The PostScript backend does not support transparency; partially transparent artists will be rendered opaque.\n",
      "The PostScript backend does not support transparency; partially transparent artists will be rendered opaque.\n",
      "The PostScript backend does not support transparency; partially transparent artists will be rendered opaque.\n",
      "The PostScript backend does not support transparency; partially transparent artists will be rendered opaque.\n",
      "The PostScript backend does not support transparency; partially transparent artists will be rendered opaque.\n",
      "The PostScript backend does not support transparency; partially transparent artists will be rendered opaque.\n",
      "The PostScript backend does not support transparency; partially transparent artists will be rendered opaque.\n",
      "The PostScript backend does not support transparency; partially transparent artists will be rendered opaque.\n",
      "The PostScript backend does not support transparency; partially transparent artists will be rendered opaque.\n",
      "The PostScript backend does not support transparency; partially transparent artists will be rendered opaque.\n",
      "The PostScript backend does not support transparency; partially transparent artists will be rendered opaque.\n",
      "The PostScript backend does not support transparency; partially transparent artists will be rendered opaque.\n",
      "The PostScript backend does not support transparency; partially transparent artists will be rendered opaque.\n",
      "The PostScript backend does not support transparency; partially transparent artists will be rendered opaque.\n",
      "The PostScript backend does not support transparency; partially transparent artists will be rendered opaque.\n",
      "The PostScript backend does not support transparency; partially transparent artists will be rendered opaque.\n",
      "The PostScript backend does not support transparency; partially transparent artists will be rendered opaque.\n",
      "The PostScript backend does not support transparency; partially transparent artists will be rendered opaque.\n",
      "The PostScript backend does not support transparency; partially transparent artists will be rendered opaque.\n",
      "The PostScript backend does not support transparency; partially transparent artists will be rendered opaque.\n",
      "The PostScript backend does not support transparency; partially transparent artists will be rendered opaque.\n",
      "The PostScript backend does not support transparency; partially transparent artists will be rendered opaque.\n",
      "The PostScript backend does not support transparency; partially transparent artists will be rendered opaque.\n",
      "The PostScript backend does not support transparency; partially transparent artists will be rendered opaque.\n",
      "The PostScript backend does not support transparency; partially transparent artists will be rendered opaque.\n",
      "The PostScript backend does not support transparency; partially transparent artists will be rendered opaque.\n",
      "The PostScript backend does not support transparency; partially transparent artists will be rendered opaque.\n"
     ]
    },
    {
     "data": {
      "image/png": "[encoded data removed]",
      "text/plain": [
       "<Figure size 576x1440 with 1 Axes>"
      ]
     },
     "metadata": {},
     "output_type": "display_data"
    }
   ],
   "source": [
    "\n",
    "fig1g=sns.set_style(\"ticks\")\n",
    "fig1g=sns.set_context(\"poster\",rc={\"font.size\":30,\"axes.titlesize\":30,\"axes.labelsize\":30})\n",
    "labels=['Pindel','CLEVER','MiStrVar','indelMINER', 'BioGraph*','GRIDSS','BreakDancer','true deletions','LUMPY','DELLY','RDXplorer','PopDel','GASV','CREST','GenomeSTRiP','Manta']\n",
    "fig_order=['pindel','clever','mistrvar','indelminer', 'BioGraph*', 'gridss','breakdancer','true deletions','smoove','delly','rdxplorer','popdel','gasv','crest','genomestrip','manta_candidateSV']\n",
    "\n",
    "# labels    = ['true deletions','indelminer','sniffles','popdel','mistrvar','lumpy','BioGraph*','breakdancer','delly','gridss','clever','rdxplorer','pindel','gasv']\n",
    "# fig_order =['true deletions','indelminer','sniffles','popdel','mistrvar','smoove','BioGraph*','breakdancer','delly','gridss','clever','rdxplorer','pindel','gasv']\n",
    "df[\"Tool\"] = df[\"tool\"].map(dict(zip(fig_order, labels)))\n",
    "test=df.groupby(\"Tool\")[\"length\"].median()\n",
    "print(test)\n",
    "ranks = df.groupby(\"Tool\")[\"length\"].median().fillna(0).sort_values()[::-1].index\n",
    "print(ranks)\n",
    "pal = []\n",
    "for tool in fig_order:\n",
    "    pal.append(color_map[tool])\n",
    "fig1g = sns.catplot(x=\"length\", y=\"Tool\",kind='boxen',data=df.sort_values(\"length\"),height=20, aspect=.4, palette=pal,order=labels)\n",
    "#fig1g = sns.catplot(x=\"tool\", y=\"length\",kind='boxen',data=df, aspect=12, palette=pal, order=fig_order)\n",
    "# fig1g.invert_yaxis()\n",
    "fig1g.set(xscale=\"log\");\n",
    "fig1g.set(ylabel='SV-caller')\n",
    "fig1g.set(xlabel='Deletion length')\n",
    "# sns.set(rc={'figure.figsize':(1,1)})\n",
    "fig1g=sns.despine()\n",
    "plt.savefig(\"../figures/fig2/fig2.svg\", bbox_inches='tight')\n",
    "plt.savefig(\"../figures/fig2/fig2.eps\", bbox_inches='tight')\n",
    "plt.savefig(\"../figures/fig2/fig2\", bbox_inches='tight')\n",
    "plt.savefig(\"../figures/fig2/fig2.pdf\", bbox_inches='tight')"
   ]
  },
  {
   "cell_type": "code",
   "execution_count": null,
   "metadata": {},
   "outputs": [],
   "source": []
  }
 ],
 "metadata": {
  "kernelspec": {
   "display_name": "Python 3",
   "language": "python",
   "name": "python3"
  },
  "language_info": {
   "codemirror_mode": {
    "name": "ipython",
    "version": 3
   },
   "file_extension": ".py",
   "mimetype": "text/x-python",
   "name": "python",
   "nbconvert_exporter": "python",
   "pygments_lexer": "ipython3",
   "version": "3.7.6"
  }
 },
 "nbformat": 4,
 "nbformat_minor": 2
}
