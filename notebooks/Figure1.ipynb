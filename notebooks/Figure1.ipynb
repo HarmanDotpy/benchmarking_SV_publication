{
 "cells": [
  {
   "cell_type": "code",
   "execution_count": 1,
   "metadata": {},
   "outputs": [],
   "source": [
    "#conda install -c conda-forge scikit-allel\n",
    "import pandas as pd\n",
    "import allel\n",
    "import numpy as np\n",
    "import matplotlib.pyplot as plt\n",
    "import seaborn as sns"
   ]
  },
  {
   "cell_type": "code",
   "execution_count": 2,
   "metadata": {},
   "outputs": [],
   "source": [
    "#deletions for this project are across seven inbred mouse strains; underscore used in place of /\n",
    "strain=['A_J','AKR_J','BALB_CJ','CBA_J','C3H_HeJ','DBA_2J','LP_J']"
   ]
  },
  {
   "cell_type": "code",
   "execution_count": 3,
   "metadata": {},
   "outputs": [
    {
     "name": "stderr",
     "output_type": "stream",
     "text": [
      "/home/vs/.local/lib/python3.5/site-packages/ipykernel_launcher.py:10: FutureWarning: Sorting because non-concatenation axis is not aligned. A future version\n",
      "of pandas will change to not sort by default.\n",
      "\n",
      "To accept the future behavior, pass 'sort=False'.\n",
      "\n",
      "To retain the current behavior and silence the warning, pass 'sort=True'.\n",
      "\n",
      "  # Remove the CWD from sys.path while we load stuff.\n"
     ]
    }
   ],
   "source": [
    "df_current = pd.DataFrame(columns=['strain','length'])\n",
    "df = pd.DataFrame(columns=['strain','length'])\n",
    "\n",
    "\n",
    "for s in strain:\n",
    "    file='../gold_standard/mouse_vcf/'+s+'_reference.vcf'\n",
    "    callset = allel.read_vcf(file,fields='*')\n",
    "    \n",
    "    df_current = pd.DataFrame({'strain': s, 'length': callset['variants/SVLEN']})\n",
    "    df = pd.concat([df_current, df],ignore_index=True)"
   ]
  },
  {
   "cell_type": "code",
   "execution_count": 4,
   "metadata": {},
   "outputs": [],
   "source": [
    "df['length']=pd.to_numeric(df['length'])"
   ]
  },
  {
   "cell_type": "code",
   "execution_count": 5,
   "metadata": {},
   "outputs": [],
   "source": [
    "df.to_csv('../analysis_files/true_length_7_strains.csv',index=False)"
   ]
  },
  {
   "cell_type": "markdown",
   "metadata": {},
   "source": [
    "# Figure 1a"
   ]
  },
  {
   "cell_type": "code",
   "execution_count": 6,
   "metadata": {},
   "outputs": [
    {
     "data": {
      "image/png": "[encoded data removed]",
      "text/plain": [
       "<Figure size 648x360 with 1 Axes>"
      ]
     },
     "metadata": {},
     "output_type": "display_data"
    }
   ],
   "source": [
    "#average deletion length by mouse strain\n",
    "fig1a=sns.set_style('white')\n",
    "fig1a=sns.set_context('talk')\n",
    "fig1a = sns.catplot(x='strain', y='length',kind='boxen',data=df, aspect=1.8,palette='Greys', order=['A_J', 'AKR_J', 'BALB_CJ', 'CBA_J', 'C3H_HeJ', 'DBA_2J', 'LP_J'])\n",
    "fig1a.set(yscale='log');\n",
    "fig1a.set(xlabel='', ylabel='Deletion Length (bp)')\n",
    "fig1a=sns.despine()\n",
    "plt.xticks(rotation=90)\n",
    "plt.savefig(\"../figures/fig1/fig1a.svg\")\n",
    "plt.savefig(\"../figures/fig1/fig1a.eps\")\n",
    "plt.savefig(\"../figures/fig1/fig1a\", bbox_inches='tight')\n",
    "plt.savefig(\"../figures/fig1/fig1a.pdf\", bbox_inches='tight')"
   ]
  },
  {
   "cell_type": "code",
   "execution_count": 7,
   "metadata": {
    "scrolled": true
   },
   "outputs": [
    {
     "name": "stdout",
     "output_type": "stream",
     "text": [
      "Number of SVs for 7 strains: 3799\n"
     ]
    }
   ],
   "source": [
    "count_row = df.shape[0]\n",
    "print (\"Number of SVs for 7 strains:\",count_row)"
   ]
  },
  {
   "cell_type": "code",
   "execution_count": 8,
   "metadata": {},
   "outputs": [
    {
     "name": "stdout",
     "output_type": "stream",
     "text": [
      "Max deletion length\n"
     ]
    },
    {
     "data": {
      "text/plain": [
       "length    239572\n",
       "strain      LP_J\n",
       "dtype: object"
      ]
     },
     "execution_count": 8,
     "metadata": {},
     "output_type": "execute_result"
    }
   ],
   "source": [
    "print (\"Max deletion length\")\n",
    "df.max()"
   ]
  },
  {
   "cell_type": "code",
   "execution_count": 9,
   "metadata": {},
   "outputs": [
    {
     "name": "stdout",
     "output_type": "stream",
     "text": [
      "length    1633.024217\n",
      "dtype: float64 length    7285.812215\n",
      "dtype: float64\n"
     ]
    }
   ],
   "source": [
    "print (df.mean(),df.std())"
   ]
  },
  {
   "cell_type": "code",
   "execution_count": 10,
   "metadata": {},
   "outputs": [
    {
     "name": "stdout",
     "output_type": "stream",
     "text": [
      "n    542.714286\n",
      "dtype: float64 n    43.675753\n",
      "dtype: float64\n"
     ]
    }
   ],
   "source": [
    "deletions_per_strain=df.groupby(['strain']).count()\n",
    "deletions_per_strain=deletions_per_strain.rename(columns={'length': 'n', 'B': 'c'})\n",
    "deletions_per_strain.head()\n",
    "deletions_per_strain.to_csv('../analysis_files/SV_deletions_per_strain.csv')\n",
    "print(deletions_per_strain.mean(),deletions_per_strain.std())"
   ]
  },
  {
   "cell_type": "code",
   "execution_count": 11,
   "metadata": {},
   "outputs": [],
   "source": [
    "df_50_100=df.loc[(df['length'] > 50) & (df['length'] <= 100)]\n",
    "df_100_500=df.loc[(df['length'] > 100) & (df['length'] <= 500)]\n",
    "df_500_1000=df.loc[(df['length'] > 500) & (df['length'] <=1000)]\n",
    "df_1000=df.loc[(df['length'] >1000)]"
   ]
  },
  {
   "cell_type": "code",
   "execution_count": 12,
   "metadata": {},
   "outputs": [],
   "source": [
    "count_row_50_100 = df_50_100.shape[0]\n",
    "count_row_100_500 = df_100_500.shape[0]\n",
    "count_row_500_1000 = df_500_1000.shape[0]\n",
    "count_row_1000 = df_1000.shape[0]\n",
    "\n",
    "f=open('../analysis_files/true_number_SVs_by_category.csv','w')\n",
    "f.write('cat,n')\n",
    "f.write('\\n')\n",
    "f.write('50-100,'+str(count_row_50_100))\n",
    "f.write('\\n')\n",
    "f.write('100-500,'+str(count_row_100_500))\n",
    "f.write('\\n')\n",
    "f.write('500-1000,'+str(count_row_500_1000))\n",
    "f.write('\\n')\n",
    "f.write('>1000,'+str(count_row_1000))\n",
    "f.write('\\n')\n",
    "f.close()"
   ]
  },
  {
   "cell_type": "code",
   "execution_count": 13,
   "metadata": {},
   "outputs": [
    {
     "name": "stdout",
     "output_type": "stream",
     "text": [
      "Stored 'df_cat' (DataFrame)\n"
     ]
    }
   ],
   "source": [
    "df_cat=pd.read_csv('../analysis_files/true_number_SVs_by_category.csv')\n",
    "df_cat['precision']=(df_cat['n']/3710)*100\n",
    "df_cat.head()\n",
    "%store df_cat"
   ]
  },
  {
   "cell_type": "code",
   "execution_count": 14,
   "metadata": {},
   "outputs": [],
   "source": [
    "strain=['A_J','AKR_J','BALB_CJ','CBA_J','C3H_HeJ','DBA_2J','LP_J']\n",
    "\n",
    "#total tools=14\n",
    "tools=['BioGraph*',\n",
    "'breakdancer',\n",
    "'clever',\n",
    "'delly',\n",
    "'gasv',\n",
    "'gridss',\n",
    "'indelminer',\n",
    "#'lumpexpress',\n",
    "'mistrvar',\n",
    "'pindel',\n",
    "'popdel',\n",
    "'rdxplorer',\n",
    "'smoove',\n",
    "'sniffles']"
   ]
  },
  {
   "cell_type": "code",
   "execution_count": 15,
   "metadata": {},
   "outputs": [
    {
     "name": "stderr",
     "output_type": "stream",
     "text": [
      "/home/vs/.local/lib/python3.5/site-packages/allel/io/vcf_read.py:1745: UserWarning: multiple INFO headers for 'SVLEN'\n",
      "  warnings.warn('multiple INFO headers for %r' % k)\n",
      "/home/vs/.local/lib/python3.5/site-packages/ipykernel_launcher.py:17: FutureWarning: Sorting because non-concatenation axis is not aligned. A future version\n",
      "of pandas will change to not sort by default.\n",
      "\n",
      "To accept the future behavior, pass 'sort=False'.\n",
      "\n",
      "To retain the current behavior and silence the warning, pass 'sort=True'.\n",
      "\n"
     ]
    }
   ],
   "source": [
    "#tool detection of deletions\n",
    "df_current = pd.DataFrame(columns=['strain','length'])\n",
    "df = pd.DataFrame(columns=['tool','strain','length'])\n",
    "\n",
    "#0t.sniffles.LP_J_chr19.100p_sorted.modified.vcf\n",
    "for s in strain:\n",
    "    for t in tools:\n",
    "        file='../raw_data/mouse/custom_vcf_fulldata/0t/deletions/nf_0t.'+t+'.'+s+'.chr19.100p_sorted.modified.vcf'\n",
    "        \n",
    "        callset = allel.read_vcf(file,fields='*')\n",
    "        # print(type(callset))\n",
    "        \n",
    "        if callset:\n",
    "            df_current = pd.DataFrame({'tool': t, 'strain': s, 'length': callset['variants/SVLEN']})\n",
    "            #print(df_current)\n",
    "        \n",
    "            df = pd.concat([df_current, df],ignore_index=True)\n",
    "        else:\n",
    "            print(\"Empty File: \" + file)\n",
    "            \n",
    "#missing files: pindel.BALB_CJ and platypus.BALB_CJ\n",
    "#from Varuni's files under custom_vcf_fulldata (not new)"
   ]
  },
  {
   "cell_type": "code",
   "execution_count": 16,
   "metadata": {},
   "outputs": [
    {
     "name": "stdout",
     "output_type": "stream",
     "text": [
      "       length strain            tool\n",
      "0         730   LP_J  true deletions\n",
      "1        2613   LP_J  true deletions\n",
      "2        1341   LP_J  true deletions\n",
      "3         226   LP_J  true deletions\n",
      "4         725   LP_J  true deletions\n",
      "5        2653   LP_J  true deletions\n",
      "6          76   LP_J  true deletions\n",
      "7         470   LP_J  true deletions\n",
      "8         234   LP_J  true deletions\n",
      "9         185   LP_J  true deletions\n",
      "10        169   LP_J  true deletions\n",
      "11        154   LP_J  true deletions\n",
      "12        423   LP_J  true deletions\n",
      "13        877   LP_J  true deletions\n",
      "14         73   LP_J  true deletions\n",
      "15        105   LP_J  true deletions\n",
      "16        230   LP_J  true deletions\n",
      "17        184   LP_J  true deletions\n",
      "18        988   LP_J  true deletions\n",
      "19       1313   LP_J  true deletions\n",
      "20         75   LP_J  true deletions\n",
      "21        336   LP_J  true deletions\n",
      "22       7427   LP_J  true deletions\n",
      "23        152   LP_J  true deletions\n",
      "24         87   LP_J  true deletions\n",
      "25       3895   LP_J  true deletions\n",
      "26        327   LP_J  true deletions\n",
      "27         98   LP_J  true deletions\n",
      "28       2208   LP_J  true deletions\n",
      "29       6479   LP_J  true deletions\n",
      "...       ...    ...             ...\n",
      "859890    201    A_J       BioGraph*\n",
      "859891    344    A_J       BioGraph*\n",
      "859892     52    A_J       BioGraph*\n",
      "859893   7227    A_J       BioGraph*\n",
      "859894     55    A_J       BioGraph*\n",
      "859895     91    A_J       BioGraph*\n",
      "859896    221    A_J       BioGraph*\n",
      "859897    215    A_J       BioGraph*\n",
      "859898    181    A_J       BioGraph*\n",
      "859899   1082    A_J       BioGraph*\n",
      "859900   6478    A_J       BioGraph*\n",
      "859901    540    A_J       BioGraph*\n",
      "859902     51    A_J       BioGraph*\n",
      "859903     96    A_J       BioGraph*\n",
      "859904   1133    A_J       BioGraph*\n",
      "859905    126    A_J       BioGraph*\n",
      "859906    146    A_J       BioGraph*\n",
      "859907    692    A_J       BioGraph*\n",
      "859908     60    A_J       BioGraph*\n",
      "859909    134    A_J       BioGraph*\n",
      "859910   8731    A_J       BioGraph*\n",
      "859911    156    A_J       BioGraph*\n",
      "859912     54    A_J       BioGraph*\n",
      "859913    203    A_J       BioGraph*\n",
      "859914    609    A_J       BioGraph*\n",
      "859915     69    A_J       BioGraph*\n",
      "859916     69    A_J       BioGraph*\n",
      "859917   6468    A_J       BioGraph*\n",
      "859918    252    A_J       BioGraph*\n",
      "859919    121    A_J       BioGraph*\n",
      "\n",
      "[859920 rows x 3 columns]\n"
     ]
    }
   ],
   "source": [
    "#true/gold standard detection of deletions\n",
    "df_current = pd.DataFrame(columns=['strain','length'])\n",
    "\n",
    "\n",
    "for s in strain:\n",
    "    file='../gold_standard/mouse_vcf/'+s+'_reference.vcf'\n",
    "    callset = allel.read_vcf(file,fields='*')\n",
    "    \n",
    "    df_current = pd.DataFrame({'tool': 'true deletions', 'strain': s, 'length': callset['variants/SVLEN']})\n",
    "    df = pd.concat([df_current, df],ignore_index=True)\n",
    "\n",
    "print(df)"
   ]
  },
  {
   "cell_type": "code",
   "execution_count": 17,
   "metadata": {},
   "outputs": [],
   "source": [
    "df['length']=pd.to_numeric(df['length'])\n",
    "df = df[df['length']>=50]\n"
   ]
  },
  {
   "cell_type": "markdown",
   "metadata": {},
   "source": [
    "# Color-coding tools for consistency across all data figures"
   ]
  },
  {
   "cell_type": "code",
   "execution_count": 18,
   "metadata": {},
   "outputs": [],
   "source": [
    "color_map = {'BioGraph*':'yellowgreen', 'breakdancer':'peru', 'clever':'gold', 'delly':'darkorange', 'delly':'mediumorchid', \n",
    "             'gasv':'firebrick', 'gridss':'cornflowerblue', 'indelminer':'forestgreen', 'lumpexpress':'pink', \n",
    "             'mistrvar':'salmon', 'pindel':'darkorange', 'popdel':'navy', 'rdxplorer':'darkgray', \n",
    "             'smoove':'orangered', 'sniffles':'saddlebrown', 'true deletions':'black'}\n",
    "color_map1 = {'BioGraph*':'yellowgreen', 'breakdancer':'peru', 'clever':'gold', 'delly':'darkorange', 'delly':'mediumorchid', \n",
    "             'gasv':'firebrick', 'gridss':'cornflowerblue', 'indelminer':'forestgreen', 'lumpexpress':'pink', \n",
    "             'mistrvar':'salmon', 'pindel':'darkorange', 'popdel':'navy', 'rdxplorer':'darkgray', \n",
    "             'lumpy':'orangered', 'sniffles':'saddlebrown', 'true deletions':'black'}\n",
    "test = [\"true deletions\", \"BioGraph*\",\"breakdancer\", \"clever\", \"delly\", \"gasv\", \n",
    "        \"gridss\", \"indelminer\", \"lumpexpress\", \"mistrvar\", \"pindel\",\"popdel\",\"rdxplorer\", \"smoove\", \"sniffles\"]\n"
   ]
  },
  {
   "cell_type": "code",
   "execution_count": 19,
   "metadata": {},
   "outputs": [
    {
     "name": "stdout",
     "output_type": "stream",
     "text": [
      "Stored 'color_map' (dict)\n",
      "Stored 'color_map1' (dict)\n"
     ]
    }
   ],
   "source": [
    "%store color_map\n",
    "%store color_map1"
   ]
  },
  {
   "cell_type": "code",
   "execution_count": 20,
   "metadata": {},
   "outputs": [
    {
     "name": "stdout",
     "output_type": "stream",
     "text": [
      "Stored 'test' (list)\n"
     ]
    }
   ],
   "source": [
    "%store test"
   ]
  },
  {
   "cell_type": "markdown",
   "metadata": {},
   "source": [
    "# Figure 1b"
   ]
  },
  {
   "cell_type": "code",
   "execution_count": 21,
   "metadata": {
    "scrolled": true
   },
   "outputs": [
    {
     "data": {
      "text/html": [
       "<div>\n",
       "<style scoped>\n",
       "    .dataframe tbody tr th:only-of-type {\n",
       "        vertical-align: middle;\n",
       "    }\n",
       "\n",
       "    .dataframe tbody tr th {\n",
       "        vertical-align: top;\n",
       "    }\n",
       "\n",
       "    .dataframe thead th {\n",
       "        text-align: right;\n",
       "    }\n",
       "</style>\n",
       "<table border=\"1\" class=\"dataframe\">\n",
       "  <thead>\n",
       "    <tr style=\"text-align: right;\">\n",
       "      <th></th>\n",
       "      <th>tool</th>\n",
       "      <th>n</th>\n",
       "    </tr>\n",
       "  </thead>\n",
       "  <tbody>\n",
       "    <tr>\n",
       "      <th>0</th>\n",
       "      <td>BioGraph*</td>\n",
       "      <td>3175</td>\n",
       "    </tr>\n",
       "    <tr>\n",
       "      <th>1</th>\n",
       "      <td>breakdancer</td>\n",
       "      <td>3542</td>\n",
       "    </tr>\n",
       "    <tr>\n",
       "      <th>2</th>\n",
       "      <td>clever</td>\n",
       "      <td>12773</td>\n",
       "    </tr>\n",
       "    <tr>\n",
       "      <th>3</th>\n",
       "      <td>delly</td>\n",
       "      <td>3910</td>\n",
       "    </tr>\n",
       "    <tr>\n",
       "      <th>4</th>\n",
       "      <td>gasv</td>\n",
       "      <td>82225</td>\n",
       "    </tr>\n",
       "    <tr>\n",
       "      <th>5</th>\n",
       "      <td>gridss</td>\n",
       "      <td>4084</td>\n",
       "    </tr>\n",
       "    <tr>\n",
       "      <th>6</th>\n",
       "      <td>indelminer</td>\n",
       "      <td>899</td>\n",
       "    </tr>\n",
       "    <tr>\n",
       "      <th>7</th>\n",
       "      <td>mistrvar</td>\n",
       "      <td>1943</td>\n",
       "    </tr>\n",
       "    <tr>\n",
       "      <th>8</th>\n",
       "      <td>pindel</td>\n",
       "      <td>64721</td>\n",
       "    </tr>\n",
       "    <tr>\n",
       "      <th>9</th>\n",
       "      <td>popdel</td>\n",
       "      <td>1625</td>\n",
       "    </tr>\n",
       "    <tr>\n",
       "      <th>10</th>\n",
       "      <td>rdxplorer</td>\n",
       "      <td>18531</td>\n",
       "    </tr>\n",
       "    <tr>\n",
       "      <th>11</th>\n",
       "      <td>smoove</td>\n",
       "      <td>3007</td>\n",
       "    </tr>\n",
       "    <tr>\n",
       "      <th>12</th>\n",
       "      <td>sniffles</td>\n",
       "      <td>1204</td>\n",
       "    </tr>\n",
       "    <tr>\n",
       "      <th>13</th>\n",
       "      <td>true deletions</td>\n",
       "      <td>3710</td>\n",
       "    </tr>\n",
       "  </tbody>\n",
       "</table>\n",
       "</div>"
      ],
      "text/plain": [
       "              tool      n\n",
       "0        BioGraph*   3175\n",
       "1      breakdancer   3542\n",
       "2           clever  12773\n",
       "3            delly   3910\n",
       "4             gasv  82225\n",
       "5           gridss   4084\n",
       "6       indelminer    899\n",
       "7         mistrvar   1943\n",
       "8           pindel  64721\n",
       "9           popdel   1625\n",
       "10       rdxplorer  18531\n",
       "11          smoove   3007\n",
       "12        sniffles   1204\n",
       "13  true deletions   3710"
      ]
     },
     "execution_count": 21,
     "metadata": {},
     "output_type": "execute_result"
    }
   ],
   "source": [
    "df_number=df.groupby('tool', as_index=False).count()\n",
    "del df_number['strain']\n",
    "df_number=df_number.rename(columns={'length': 'n'})\n",
    "def convert(df_number): \n",
    "    return tuple(df_number) \n",
    "\n",
    "df_number"
   ]
  },
  {
   "cell_type": "code",
   "execution_count": 22,
   "metadata": {},
   "outputs": [
    {
     "data": {
      "text/plain": [
       "array([ 0,  1,  2,  3,  4,  5,  6,  7,  8,  9, 10, 11, 12, 13, 14])"
      ]
     },
     "execution_count": 22,
     "metadata": {},
     "output_type": "execute_result"
    }
   ],
   "source": [
    "x = np.arange(15)\n",
    "x"
   ]
  },
  {
   "cell_type": "code",
   "execution_count": 23,
   "metadata": {
    "scrolled": true
   },
   "outputs": [],
   "source": [
    "# #number of deletions detected by each tool\n",
    "# import matplotlib.pyplot as plt; plt.rcdefaults()\n",
    "# import numpy as np\n",
    "# import matplotlib.pyplot as plt\n",
    "\n",
    "# fig1b, (ax, ax2)= plt.subplots(1,2,sharey=True)\n",
    "\n",
    "# ax.barh(width=df_number['n'], y=x)\n",
    "# ax2.barh(width=df_number['n'], y=x)\n",
    "\n",
    "# ax.set_xlim(0,20000)\n",
    "# ax2.set_xlim(50000,85000) \n",
    "\n",
    "# plt.yticks(x, df_number['tool'])\n",
    "# plt.xticks(rotation=30)\n",
    "# ax.set_xlabel('Number of deletions')\n",
    "# ax2.set_xlabel('Number of deletions')\n",
    "\n",
    "# ax.spines['right'].set_visible(False)\n",
    "# ax2.spines['left'].set_visible(False)\n",
    "# ax.yaxis.tick_left()\n",
    "# ax.tick_params(labeltop='off')\n",
    "# ax2.yaxis.tick_right()\n",
    "# plt.subplots_adjust(wspace=0.15)\n",
    "\n",
    "\n",
    "# #d = .015\n",
    "# #kwargs = dict(transform=ax.transAxes, color='k', clip_on=False)\n",
    "# #ax.plot((1-d,1+d), (-d,+d), **kwargs)\n",
    "# #ax.plot((1-d,1+d),(1-d,1+d), **kwargs)\n",
    "\n",
    "# #kwargs.update(transform=ax2.transAxes)\n",
    "# #ax2.plot((-d,+d), (1-d,1+d), **kwargs)\n",
    "# #ax2.plot((-d,+d), (-d,+d), **kwargs)\n",
    "\n",
    "# plt.savefig(\"../figures/fig1/fig1b\", bbox_inches='tight')"
   ]
  },
  {
   "cell_type": "code",
   "execution_count": 24,
   "metadata": {},
   "outputs": [
    {
     "data": {
      "text/html": [
       "<div>\n",
       "<style scoped>\n",
       "    .dataframe tbody tr th:only-of-type {\n",
       "        vertical-align: middle;\n",
       "    }\n",
       "\n",
       "    .dataframe tbody tr th {\n",
       "        vertical-align: top;\n",
       "    }\n",
       "\n",
       "    .dataframe thead th {\n",
       "        text-align: right;\n",
       "    }\n",
       "</style>\n",
       "<table border=\"1\" class=\"dataframe\">\n",
       "  <thead>\n",
       "    <tr style=\"text-align: right;\">\n",
       "      <th></th>\n",
       "      <th>tool</th>\n",
       "      <th>n</th>\n",
       "    </tr>\n",
       "  </thead>\n",
       "  <tbody>\n",
       "    <tr>\n",
       "      <th>0</th>\n",
       "      <td>BioGraph*</td>\n",
       "      <td>3175</td>\n",
       "    </tr>\n",
       "    <tr>\n",
       "      <th>1</th>\n",
       "      <td>breakdancer</td>\n",
       "      <td>3542</td>\n",
       "    </tr>\n",
       "    <tr>\n",
       "      <th>2</th>\n",
       "      <td>clever</td>\n",
       "      <td>12773</td>\n",
       "    </tr>\n",
       "    <tr>\n",
       "      <th>3</th>\n",
       "      <td>delly</td>\n",
       "      <td>3910</td>\n",
       "    </tr>\n",
       "    <tr>\n",
       "      <th>4</th>\n",
       "      <td>gasv</td>\n",
       "      <td>82225</td>\n",
       "    </tr>\n",
       "    <tr>\n",
       "      <th>5</th>\n",
       "      <td>gridss</td>\n",
       "      <td>4084</td>\n",
       "    </tr>\n",
       "    <tr>\n",
       "      <th>6</th>\n",
       "      <td>indelminer</td>\n",
       "      <td>899</td>\n",
       "    </tr>\n",
       "    <tr>\n",
       "      <th>7</th>\n",
       "      <td>mistrvar</td>\n",
       "      <td>1943</td>\n",
       "    </tr>\n",
       "    <tr>\n",
       "      <th>8</th>\n",
       "      <td>pindel</td>\n",
       "      <td>64721</td>\n",
       "    </tr>\n",
       "    <tr>\n",
       "      <th>9</th>\n",
       "      <td>popdel</td>\n",
       "      <td>1625</td>\n",
       "    </tr>\n",
       "    <tr>\n",
       "      <th>10</th>\n",
       "      <td>rdxplorer</td>\n",
       "      <td>18531</td>\n",
       "    </tr>\n",
       "    <tr>\n",
       "      <th>11</th>\n",
       "      <td>smoove</td>\n",
       "      <td>3007</td>\n",
       "    </tr>\n",
       "    <tr>\n",
       "      <th>12</th>\n",
       "      <td>sniffles</td>\n",
       "      <td>1204</td>\n",
       "    </tr>\n",
       "    <tr>\n",
       "      <th>13</th>\n",
       "      <td>true deletions</td>\n",
       "      <td>3710</td>\n",
       "    </tr>\n",
       "  </tbody>\n",
       "</table>\n",
       "</div>"
      ],
      "text/plain": [
       "              tool      n\n",
       "0        BioGraph*   3175\n",
       "1      breakdancer   3542\n",
       "2           clever  12773\n",
       "3            delly   3910\n",
       "4             gasv  82225\n",
       "5           gridss   4084\n",
       "6       indelminer    899\n",
       "7         mistrvar   1943\n",
       "8           pindel  64721\n",
       "9           popdel   1625\n",
       "10       rdxplorer  18531\n",
       "11          smoove   3007\n",
       "12        sniffles   1204\n",
       "13  true deletions   3710"
      ]
     },
     "execution_count": 24,
     "metadata": {},
     "output_type": "execute_result"
    }
   ],
   "source": [
    "df_number"
   ]
  },
  {
   "cell_type": "code",
   "execution_count": 25,
   "metadata": {},
   "outputs": [
    {
     "data": {
      "image/png": "[encoded data removed]",
      "text/plain": [
       "<Figure size 432x288 with 2 Axes>"
      ]
     },
     "metadata": {},
     "output_type": "display_data"
    }
   ],
   "source": [
    "fig1b, (ax1, ax2) = plt.subplots(ncols=2, nrows=1, sharey=True)\n",
    "\n",
    "fig_order = ['true deletions','indelminer','sniffles','popdel','mistrvar','smoove','BioGraph*','breakdancer','delly','gridss','clever','rdxplorer','pindel','gasv']\n",
    "\n",
    "pal = []\n",
    "for tool in fig_order:\n",
    "    pal.append(color_map[tool])\n",
    "\n",
    "ax=sns.barplot(x='n',y='tool',data=df_number, ax=ax1, palette=pal,order=fig_order)\n",
    "ax=sns.barplot(x='n',y='tool',data=df_number, ax=ax2, palette=pal,order=fig_order)\n",
    "ax1.set_xlim(0,20000)\n",
    "ax2.set_xlim(50000,85000)\n",
    "# fig1b=sns.set_style('whitegrid')\n",
    "# fig1b=sns.set_context('talk')\n",
    "labels = ['true deletions','indelminer','sniffles','popdel','mistrvar','lumpy','BioGraph*','breakdancer','delly','gridss','clever','rdxplorer','pindel','gasv']\n",
    "\n",
    "ax.set_yticklabels(labels)\n",
    "\n",
    "plt.subplots_adjust(wspace=0.1, hspace=0)\n",
    "ax1.set(xlabel= '', ylabel='Tool')\n",
    "ax2.set(xlabel='', ylabel='')\n",
    "plt.savefig(\"../figures/fig1/fig1b_break.svg\", bbox_inches='tight')\n",
    "plt.savefig(\"../figures/fig1/fig1b_break.eps\", bbox_inches='tight')\n",
    "plt.savefig(\"../figures/fig1/fig1b_break\", bbox_inches='tight')\n",
    "plt.savefig(\"../figures/fig1/fig1b_break.pdf\", bbox_inches='tight')"
   ]
  },
  {
   "cell_type": "code",
   "execution_count": 26,
   "metadata": {
    "scrolled": true
   },
   "outputs": [
    {
     "data": {
      "image/png": "[encoded data removed]",
      "text/plain": [
       "<Figure size 540x360 with 1 Axes>"
      ]
     },
     "metadata": {},
     "output_type": "display_data"
    }
   ],
   "source": [
    "fig1b=sns.set_style('whitegrid')\n",
    "fig1b=sns.set_context('talk')\n",
    "\n",
    "fig_order=[\"true deletions\", \"BioGraph*\",\"breakdancer\", \"clever\", \"delly\", \"gasv\", \"gridss\", \"indelminer\",  \"mistrvar\", \"pindel\",\"popdel\",\"rdxplorer\", \"smoove\", \"sniffles\"]\n",
    "\n",
    "pal = []\n",
    "for tool in fig_order:\n",
    "    pal.append(color_map[tool])\n",
    "    \n",
    "fig1b = sns.catplot(x='n', y='tool',data=df_number,kind='bar',aspect=1.5, palette=pal, order=fig_order)\n",
    "fig1b.set(xlabel='Number of deletions', ylabel='Tool')\n",
    "labels=[\"true deletions\", \"BioGraph*\",\"breakdancer\", \"clever\", \"delly\", \"gasv\", \"gridss\", \"indelminer\",  \"mistrvar\", \"pindel\",\"popdel\",\"rdxplorer\", \"lumpy\", \"sniffles\"]\n",
    "\n",
    "fig1b.set_yticklabels(labels)\n",
    "#fig1b.set(xscale=\"log\");\n",
    "fig1b=sns.despine()\n",
    "\n",
    "plt.savefig(\"../figures/fig1/fig1b_no_break\", bbox_inches='tight')\n",
    "plt.savefig(\"../figures/fig1/fig1b.pdf\", bbox_inches='tight')\n",
    "plt.savefig(\"../figures/fig1/fig1b.eps\")\n",
    "plt.savefig(\"../figures/fig1/fig1b.svg\")"
   ]
  },
  {
   "cell_type": "markdown",
   "metadata": {},
   "source": [
    "# Figure 1c"
   ]
  },
  {
   "cell_type": "code",
   "execution_count": 28,
   "metadata": {},
   "outputs": [],
   "source": [
    "# df_sum.head()"
   ]
  },
  {
   "cell_type": "code",
   "execution_count": 29,
   "metadata": {
    "scrolled": true
   },
   "outputs": [
    {
     "data": {
      "image/png": "[encoded data removed]",
      "text/plain": [
       "<Figure size 811.775x360 with 1 Axes>"
      ]
     },
     "metadata": {},
     "output_type": "display_data"
    }
   ],
   "source": [
    "%store -r\n",
    "fig1c=sns.set_style(\"white\")\n",
    "fig1c=sns.set_context(\"talk\")\n",
    "\n",
    "fig_order = [\"indelminer\",\"gasv\",\"mistrvar\",\"rdxplorer\",\"sniffles\",\"popdel\",\"pindel\",\"BioGraph*\",\"breakdancer\",\"smoove\",\"delly\",\"gridss\",\"clever\"]\n",
    "labels    = [\"indelminer\",\"gasv\",\"mistrvar\",\"rdxplorer\",\"sniffles\",\"popdel\",\"pindel\",\"BioGraph*\",\"breakdancer\",\"lumpy\",\"delly\",\"gridss\",\"clever\"]\n",
    "df_sum[\"Tool\"] = df_sum[\"tool\"].map(dict(zip(fig_order, labels)))\n",
    "\n",
    "pal = []\n",
    "for tool in fig_order:\n",
    "    pal.append(color_map[tool])\n",
    "    \n",
    "fig1c = sns.catplot(x=\"threshold\", y=\"nTP\", kind=\"bar\",data = df_sum,hue=\"Tool\",aspect=1.8, palette=pal, hue_order=labels)\n",
    "fig1c.set(xlabel='Threshold (bp)', ylabel='Total number of TP calls')\n",
    "\n",
    "# fig1c=sns.despine()\n",
    "#plt.show(fig1c)\n",
    "plt.savefig(\"../figures/fig1/fig1c.svg\", bbox_inches='tight')\n",
    "plt.savefig(\"../figures/fig1/fig1c.eps\", bbox_inches='tight')\n",
    "plt.savefig(\"../figures/fig1/fig1c\", bbox_inches='tight')\n",
    "plt.savefig(\"../figures/fig1/fig1c.pdf\", bbox_inches='tight')\n"
   ]
  },
  {
   "cell_type": "code",
   "execution_count": null,
   "metadata": {},
   "outputs": [],
   "source": [
    "#print(df_sum)"
   ]
  },
  {
   "cell_type": "markdown",
   "metadata": {},
   "source": [
    "# Figure 1d"
   ]
  },
  {
   "cell_type": "code",
   "execution_count": null,
   "metadata": {
    "scrolled": false
   },
   "outputs": [],
   "source": [
    "fig1d=sns.set_style(\"white\")\n",
    "fig1d=sns.set_context(\"talk\")\n",
    "\n",
    "# fig_order = [\"indelminer\",\"gasv\",\"mistrvar\",\"rdxplorer\",\"sniffles\",\"popdel\",\"pindel\",\"BioGraph*\",\"breakdancer\",\"smoove\",\"delly\",\"gridss\",\"clever\"]\n",
    "labels    = [\"indelminer\",\"gasv\",\"mistrvar\",\"rdxplorer\",\"sniffles\",\"popdel\",\"pindel\",\"BioGraph*\",\"breakdancer\",\"lumpy\",\"delly\",\"gridss\",\"clever\"]\n",
    "# df_sum[\"Tool\"] = df_sum[\"tool\"].map(dict(zip(fig_order, labels)))\n",
    "\n",
    "pal = []\n",
    "for tool in fig_order:\n",
    "    pal.append(color_map[tool])\n",
    "\n",
    "fig1d = sns.catplot(x=\"threshold\", y=\"nTN\", kind=\"bar\",data = df_sum,hue=\"Tool\",aspect=1.8, palette=pal,hue_order=labels)\n",
    "fig1d.set(xlabel='Threshold (bp)', ylabel='Total number of TN calls')\n",
    "fig1d=sns.despine()\n",
    "#plt.show(fig1d)\n",
    "\n",
    "plt.savefig(\"../figures/fig1/fig1d\", bbox_inches='tight')\n",
    "plt.savefig(\"../figures/fig1/fig1d.pdf\", bbox_inches='tight')\n",
    "plt.savefig(\"../figures/fig1/fig1d.eps\")\n",
    "plt.savefig(\"../figures/fig1/fig1d.svg\")"
   ]
  },
  {
   "cell_type": "markdown",
   "metadata": {},
   "source": [
    "# Figure 1e"
   ]
  },
  {
   "cell_type": "code",
   "execution_count": null,
   "metadata": {},
   "outputs": [],
   "source": [
    "df_sum.loc[(df_sum['threshold'] ==th)]"
   ]
  },
  {
   "cell_type": "code",
   "execution_count": null,
   "metadata": {
    "scrolled": true
   },
   "outputs": [],
   "source": [
    "fig_order = [\"indelminer\",\"gasv\",\"mistrvar\",\"rdxplorer\",\"sniffles\",\"popdel\",\"pindel\",\"BioGraph*\",\"breakdancer\",\"smoove\",\"delly\",\"gridss\",\"clever\"]\n",
    "labels    = [\"indelminer\",\"gasv\",\"mistrvar\",\"rdxplorer\",\"sniffles\",\"popdel\",\"pindel\",\"BioGraph*\",\"breakdancer\",\"lumpy\",\"delly\",\"gridss\",\"clever\"]\n",
    "# df_sum[\"Tool\"] = df_sum[\"tool\"].map(dict(zip(fig_order, labels)))\n",
    "for th in [100]:\n",
    "    fig1e=sns.set_style(\"white\")\n",
    "    fig1e=sns.set_context(\"talk\")\n",
    "    \n",
    "    fig1e=sns.lmplot(data=df_sum.loc[(df_sum['threshold'] ==th)], x='nFP', y='nTP', hue='Tool',fit_reg=False,aspect=1.5,scatter_kws={\"s\": 300}, palette=color_map1)\n",
    "    fig1e.set(xlabel='FP', ylabel='TP')\n",
    "    plt.title(str(th)+\"bp\")\n",
    "    #fig1e.set(xscale=\"log\");\n",
    "    fig1e=sns.despine()\n",
    "plt.savefig(\"../figures/fig1/fig1e.svg\", bbox_inches='tight')\n",
    "plt.savefig(\"../figures/fig1/fig1e.eps\", bbox_inches='tight')\n",
    "plt.savefig(\"../figures/fig1/fig1e\", bbox_inches='tight')\n",
    "plt.savefig(\"../figures/fig1/fig1e.pdf\", bbox_inches='tight')"
   ]
  },
  {
   "cell_type": "markdown",
   "metadata": {},
   "source": [
    "# Figure 1f"
   ]
  },
  {
   "cell_type": "code",
   "execution_count": null,
   "metadata": {},
   "outputs": [],
   "source": [
    "for th in [100]:\n",
    "    fig1f=sns.set_style(\"white\")\n",
    "    fig1f=sns.set_context(\"talk\")\n",
    "    \n",
    "    \n",
    "    fig1f=sns.lmplot(data=df_sum.loc[(df_sum['threshold'] ==th)], x='nFP', y='nTN', hue='Tool',fit_reg=False,aspect=1.5,palette=color_map1,scatter_kws={'s': 300})\n",
    "    fig1f.set(xlabel='FP', ylabel='TN')\n",
    "    plt.title(str(th)+\"bp\")\n",
    "    #fig1f.set(xscale=\"log\");\n",
    "    fig1f=sns.despine()\n",
    "plt.savefig(\"../figures/fig1/fig1f.svg\", bbox_inches='tight')\n",
    "plt.savefig(\"../figures/fig1/fig1f.eps\", bbox_inches='tight')\n",
    "plt.savefig(\"../figures/fig1/fig1f\", bbox_inches='tight')\n",
    "plt.savefig(\"../figures/fig1/fig1f.pdf\", bbox_inches='tight')"
   ]
  },
  {
   "cell_type": "markdown",
   "metadata": {},
   "source": [
    "# Figure 1g"
   ]
  },
  {
   "cell_type": "code",
   "execution_count": 31,
   "metadata": {},
   "outputs": [
    {
     "data": {
      "text/html": [
       "<div>\n",
       "<style scoped>\n",
       "    .dataframe tbody tr th:only-of-type {\n",
       "        vertical-align: middle;\n",
       "    }\n",
       "\n",
       "    .dataframe tbody tr th {\n",
       "        vertical-align: top;\n",
       "    }\n",
       "\n",
       "    .dataframe thead th {\n",
       "        text-align: right;\n",
       "    }\n",
       "</style>\n",
       "<table border=\"1\" class=\"dataframe\">\n",
       "  <thead>\n",
       "    <tr style=\"text-align: right;\">\n",
       "      <th></th>\n",
       "      <th>length</th>\n",
       "      <th>strain</th>\n",
       "      <th>tool</th>\n",
       "      <th>Tool</th>\n",
       "    </tr>\n",
       "  </thead>\n",
       "  <tbody>\n",
       "    <tr>\n",
       "      <th>0</th>\n",
       "      <td>730</td>\n",
       "      <td>LP_J</td>\n",
       "      <td>true deletions</td>\n",
       "      <td>true deletions</td>\n",
       "    </tr>\n",
       "    <tr>\n",
       "      <th>1</th>\n",
       "      <td>2613</td>\n",
       "      <td>LP_J</td>\n",
       "      <td>true deletions</td>\n",
       "      <td>true deletions</td>\n",
       "    </tr>\n",
       "    <tr>\n",
       "      <th>2</th>\n",
       "      <td>1341</td>\n",
       "      <td>LP_J</td>\n",
       "      <td>true deletions</td>\n",
       "      <td>true deletions</td>\n",
       "    </tr>\n",
       "    <tr>\n",
       "      <th>3</th>\n",
       "      <td>226</td>\n",
       "      <td>LP_J</td>\n",
       "      <td>true deletions</td>\n",
       "      <td>true deletions</td>\n",
       "    </tr>\n",
       "    <tr>\n",
       "      <th>4</th>\n",
       "      <td>725</td>\n",
       "      <td>LP_J</td>\n",
       "      <td>true deletions</td>\n",
       "      <td>true deletions</td>\n",
       "    </tr>\n",
       "  </tbody>\n",
       "</table>\n",
       "</div>"
      ],
      "text/plain": [
       "   length strain            tool            Tool\n",
       "0     730   LP_J  true deletions  true deletions\n",
       "1    2613   LP_J  true deletions  true deletions\n",
       "2    1341   LP_J  true deletions  true deletions\n",
       "3     226   LP_J  true deletions  true deletions\n",
       "4     725   LP_J  true deletions  true deletions"
      ]
     },
     "execution_count": 31,
     "metadata": {},
     "output_type": "execute_result"
    }
   ],
   "source": [
    "df.head()"
   ]
  },
  {
   "cell_type": "code",
   "execution_count": 33,
   "metadata": {},
   "outputs": [],
   "source": [
    "df_new=df.sort_values(\"length\")"
   ]
  },
  {
   "cell_type": "code",
   "execution_count": 34,
   "metadata": {},
   "outputs": [
    {
     "data": {
      "text/html": [
       "<div>\n",
       "<style scoped>\n",
       "    .dataframe tbody tr th:only-of-type {\n",
       "        vertical-align: middle;\n",
       "    }\n",
       "\n",
       "    .dataframe tbody tr th {\n",
       "        vertical-align: top;\n",
       "    }\n",
       "\n",
       "    .dataframe thead th {\n",
       "        text-align: right;\n",
       "    }\n",
       "</style>\n",
       "<table border=\"1\" class=\"dataframe\">\n",
       "  <thead>\n",
       "    <tr style=\"text-align: right;\">\n",
       "      <th></th>\n",
       "      <th>length</th>\n",
       "      <th>strain</th>\n",
       "      <th>tool</th>\n",
       "      <th>Tool</th>\n",
       "    </tr>\n",
       "  </thead>\n",
       "  <tbody>\n",
       "    <tr>\n",
       "      <th>118464</th>\n",
       "      <td>50</td>\n",
       "      <td>LP_J</td>\n",
       "      <td>BioGraph*</td>\n",
       "      <td>BioGraph*</td>\n",
       "    </tr>\n",
       "    <tr>\n",
       "      <th>645305</th>\n",
       "      <td>50</td>\n",
       "      <td>AKR_J</td>\n",
       "      <td>pindel</td>\n",
       "      <td>pindel</td>\n",
       "    </tr>\n",
       "    <tr>\n",
       "      <th>9870</th>\n",
       "      <td>50</td>\n",
       "      <td>LP_J</td>\n",
       "      <td>pindel</td>\n",
       "      <td>pindel</td>\n",
       "    </tr>\n",
       "    <tr>\n",
       "      <th>645492</th>\n",
       "      <td>50</td>\n",
       "      <td>AKR_J</td>\n",
       "      <td>pindel</td>\n",
       "      <td>pindel</td>\n",
       "    </tr>\n",
       "    <tr>\n",
       "      <th>645529</th>\n",
       "      <td>50</td>\n",
       "      <td>AKR_J</td>\n",
       "      <td>pindel</td>\n",
       "      <td>pindel</td>\n",
       "    </tr>\n",
       "    <tr>\n",
       "      <th>10374</th>\n",
       "      <td>50</td>\n",
       "      <td>LP_J</td>\n",
       "      <td>pindel</td>\n",
       "      <td>pindel</td>\n",
       "    </tr>\n",
       "    <tr>\n",
       "      <th>645565</th>\n",
       "      <td>50</td>\n",
       "      <td>AKR_J</td>\n",
       "      <td>pindel</td>\n",
       "      <td>pindel</td>\n",
       "    </tr>\n",
       "    <tr>\n",
       "      <th>457680</th>\n",
       "      <td>50</td>\n",
       "      <td>CBA_J</td>\n",
       "      <td>pindel</td>\n",
       "      <td>pindel</td>\n",
       "    </tr>\n",
       "    <tr>\n",
       "      <th>352036</th>\n",
       "      <td>50</td>\n",
       "      <td>C3H_HeJ</td>\n",
       "      <td>indelminer</td>\n",
       "      <td>indelminer</td>\n",
       "    </tr>\n",
       "    <tr>\n",
       "      <th>538151</th>\n",
       "      <td>50</td>\n",
       "      <td>BALB_CJ</td>\n",
       "      <td>pindel</td>\n",
       "      <td>pindel</td>\n",
       "    </tr>\n",
       "    <tr>\n",
       "      <th>457598</th>\n",
       "      <td>50</td>\n",
       "      <td>CBA_J</td>\n",
       "      <td>pindel</td>\n",
       "      <td>pindel</td>\n",
       "    </tr>\n",
       "    <tr>\n",
       "      <th>408450</th>\n",
       "      <td>50</td>\n",
       "      <td>CBA_J</td>\n",
       "      <td>pindel</td>\n",
       "      <td>pindel</td>\n",
       "    </tr>\n",
       "    <tr>\n",
       "      <th>645862</th>\n",
       "      <td>50</td>\n",
       "      <td>AKR_J</td>\n",
       "      <td>pindel</td>\n",
       "      <td>pindel</td>\n",
       "    </tr>\n",
       "    <tr>\n",
       "      <th>408494</th>\n",
       "      <td>50</td>\n",
       "      <td>CBA_J</td>\n",
       "      <td>pindel</td>\n",
       "      <td>pindel</td>\n",
       "    </tr>\n",
       "    <tr>\n",
       "      <th>645296</th>\n",
       "      <td>50</td>\n",
       "      <td>AKR_J</td>\n",
       "      <td>pindel</td>\n",
       "      <td>pindel</td>\n",
       "    </tr>\n",
       "    <tr>\n",
       "      <th>646058</th>\n",
       "      <td>50</td>\n",
       "      <td>AKR_J</td>\n",
       "      <td>pindel</td>\n",
       "      <td>pindel</td>\n",
       "    </tr>\n",
       "    <tr>\n",
       "      <th>646179</th>\n",
       "      <td>50</td>\n",
       "      <td>AKR_J</td>\n",
       "      <td>pindel</td>\n",
       "      <td>pindel</td>\n",
       "    </tr>\n",
       "    <tr>\n",
       "      <th>646182</th>\n",
       "      <td>50</td>\n",
       "      <td>AKR_J</td>\n",
       "      <td>pindel</td>\n",
       "      <td>pindel</td>\n",
       "    </tr>\n",
       "    <tr>\n",
       "      <th>646299</th>\n",
       "      <td>50</td>\n",
       "      <td>AKR_J</td>\n",
       "      <td>pindel</td>\n",
       "      <td>pindel</td>\n",
       "    </tr>\n",
       "    <tr>\n",
       "      <th>646305</th>\n",
       "      <td>50</td>\n",
       "      <td>AKR_J</td>\n",
       "      <td>pindel</td>\n",
       "      <td>pindel</td>\n",
       "    </tr>\n",
       "    <tr>\n",
       "      <th>12668</th>\n",
       "      <td>50</td>\n",
       "      <td>LP_J</td>\n",
       "      <td>pindel</td>\n",
       "      <td>pindel</td>\n",
       "    </tr>\n",
       "    <tr>\n",
       "      <th>457470</th>\n",
       "      <td>50</td>\n",
       "      <td>CBA_J</td>\n",
       "      <td>pindel</td>\n",
       "      <td>pindel</td>\n",
       "    </tr>\n",
       "    <tr>\n",
       "      <th>646483</th>\n",
       "      <td>50</td>\n",
       "      <td>AKR_J</td>\n",
       "      <td>pindel</td>\n",
       "      <td>pindel</td>\n",
       "    </tr>\n",
       "    <tr>\n",
       "      <th>344967</th>\n",
       "      <td>50</td>\n",
       "      <td>C3H_HeJ</td>\n",
       "      <td>mistrvar</td>\n",
       "      <td>mistrvar</td>\n",
       "    </tr>\n",
       "    <tr>\n",
       "      <th>12896</th>\n",
       "      <td>50</td>\n",
       "      <td>LP_J</td>\n",
       "      <td>pindel</td>\n",
       "      <td>pindel</td>\n",
       "    </tr>\n",
       "    <tr>\n",
       "      <th>344964</th>\n",
       "      <td>50</td>\n",
       "      <td>C3H_HeJ</td>\n",
       "      <td>mistrvar</td>\n",
       "      <td>mistrvar</td>\n",
       "    </tr>\n",
       "    <tr>\n",
       "      <th>344576</th>\n",
       "      <td>50</td>\n",
       "      <td>C3H_HeJ</td>\n",
       "      <td>mistrvar</td>\n",
       "      <td>mistrvar</td>\n",
       "    </tr>\n",
       "    <tr>\n",
       "      <th>646592</th>\n",
       "      <td>50</td>\n",
       "      <td>AKR_J</td>\n",
       "      <td>pindel</td>\n",
       "      <td>pindel</td>\n",
       "    </tr>\n",
       "    <tr>\n",
       "      <th>538236</th>\n",
       "      <td>50</td>\n",
       "      <td>BALB_CJ</td>\n",
       "      <td>pindel</td>\n",
       "      <td>pindel</td>\n",
       "    </tr>\n",
       "    <tr>\n",
       "      <th>12542</th>\n",
       "      <td>50</td>\n",
       "      <td>LP_J</td>\n",
       "      <td>pindel</td>\n",
       "      <td>pindel</td>\n",
       "    </tr>\n",
       "    <tr>\n",
       "      <th>...</th>\n",
       "      <td>...</td>\n",
       "      <td>...</td>\n",
       "      <td>...</td>\n",
       "      <td>...</td>\n",
       "    </tr>\n",
       "    <tr>\n",
       "      <th>857626</th>\n",
       "      <td>27714415</td>\n",
       "      <td>A_J</td>\n",
       "      <td>delly</td>\n",
       "      <td>delly</td>\n",
       "    </tr>\n",
       "    <tr>\n",
       "      <th>498234</th>\n",
       "      <td>27714423</td>\n",
       "      <td>CBA_J</td>\n",
       "      <td>delly</td>\n",
       "      <td>delly</td>\n",
       "    </tr>\n",
       "    <tr>\n",
       "      <th>240832</th>\n",
       "      <td>27714427</td>\n",
       "      <td>DBA_2J</td>\n",
       "      <td>delly</td>\n",
       "      <td>delly</td>\n",
       "    </tr>\n",
       "    <tr>\n",
       "      <th>353947</th>\n",
       "      <td>27972103</td>\n",
       "      <td>C3H_HeJ</td>\n",
       "      <td>gridss</td>\n",
       "      <td>gridss</td>\n",
       "    </tr>\n",
       "    <tr>\n",
       "      <th>600705</th>\n",
       "      <td>28073779</td>\n",
       "      <td>BALB_CJ</td>\n",
       "      <td>gridss</td>\n",
       "      <td>gridss</td>\n",
       "    </tr>\n",
       "    <tr>\n",
       "      <th>613732</th>\n",
       "      <td>30243685</td>\n",
       "      <td>BALB_CJ</td>\n",
       "      <td>delly</td>\n",
       "      <td>delly</td>\n",
       "    </tr>\n",
       "    <tr>\n",
       "      <th>857610</th>\n",
       "      <td>30243694</td>\n",
       "      <td>A_J</td>\n",
       "      <td>delly</td>\n",
       "      <td>delly</td>\n",
       "    </tr>\n",
       "    <tr>\n",
       "      <th>118858</th>\n",
       "      <td>34582726</td>\n",
       "      <td>DBA_2J</td>\n",
       "      <td>sniffles</td>\n",
       "      <td>sniffles</td>\n",
       "    </tr>\n",
       "    <tr>\n",
       "      <th>3997</th>\n",
       "      <td>34582727</td>\n",
       "      <td>LP_J</td>\n",
       "      <td>smoove</td>\n",
       "      <td>lumpy</td>\n",
       "    </tr>\n",
       "    <tr>\n",
       "      <th>119173</th>\n",
       "      <td>34582727</td>\n",
       "      <td>DBA_2J</td>\n",
       "      <td>smoove</td>\n",
       "      <td>lumpy</td>\n",
       "    </tr>\n",
       "    <tr>\n",
       "      <th>372821</th>\n",
       "      <td>34582727</td>\n",
       "      <td>CBA_J</td>\n",
       "      <td>smoove</td>\n",
       "      <td>lumpy</td>\n",
       "    </tr>\n",
       "    <tr>\n",
       "      <th>3801</th>\n",
       "      <td>34582728</td>\n",
       "      <td>LP_J</td>\n",
       "      <td>sniffles</td>\n",
       "      <td>sniffles</td>\n",
       "    </tr>\n",
       "    <tr>\n",
       "      <th>372497</th>\n",
       "      <td>34582728</td>\n",
       "      <td>CBA_J</td>\n",
       "      <td>sniffles</td>\n",
       "      <td>sniffles</td>\n",
       "    </tr>\n",
       "    <tr>\n",
       "      <th>118040</th>\n",
       "      <td>34582732</td>\n",
       "      <td>LP_J</td>\n",
       "      <td>breakdancer</td>\n",
       "      <td>breakdancer</td>\n",
       "    </tr>\n",
       "    <tr>\n",
       "      <th>102674</th>\n",
       "      <td>34582733</td>\n",
       "      <td>LP_J</td>\n",
       "      <td>gridss</td>\n",
       "      <td>gridss</td>\n",
       "    </tr>\n",
       "    <tr>\n",
       "      <th>227520</th>\n",
       "      <td>34582733</td>\n",
       "      <td>DBA_2J</td>\n",
       "      <td>gridss</td>\n",
       "      <td>gridss</td>\n",
       "    </tr>\n",
       "    <tr>\n",
       "      <th>483973</th>\n",
       "      <td>34582733</td>\n",
       "      <td>CBA_J</td>\n",
       "      <td>gridss</td>\n",
       "      <td>gridss</td>\n",
       "    </tr>\n",
       "    <tr>\n",
       "      <th>116586</th>\n",
       "      <td>34582734</td>\n",
       "      <td>LP_J</td>\n",
       "      <td>delly</td>\n",
       "      <td>delly</td>\n",
       "    </tr>\n",
       "    <tr>\n",
       "      <th>498115</th>\n",
       "      <td>34582734</td>\n",
       "      <td>CBA_J</td>\n",
       "      <td>delly</td>\n",
       "      <td>delly</td>\n",
       "    </tr>\n",
       "    <tr>\n",
       "      <th>240719</th>\n",
       "      <td>34582734</td>\n",
       "      <td>DBA_2J</td>\n",
       "      <td>delly</td>\n",
       "      <td>delly</td>\n",
       "    </tr>\n",
       "    <tr>\n",
       "      <th>242472</th>\n",
       "      <td>34582748</td>\n",
       "      <td>DBA_2J</td>\n",
       "      <td>breakdancer</td>\n",
       "      <td>breakdancer</td>\n",
       "    </tr>\n",
       "    <tr>\n",
       "      <th>489165</th>\n",
       "      <td>34582918</td>\n",
       "      <td>CBA_J</td>\n",
       "      <td>gasv</td>\n",
       "      <td>gasv</td>\n",
       "    </tr>\n",
       "    <tr>\n",
       "      <th>107818</th>\n",
       "      <td>34582921</td>\n",
       "      <td>LP_J</td>\n",
       "      <td>gasv</td>\n",
       "      <td>gasv</td>\n",
       "    </tr>\n",
       "    <tr>\n",
       "      <th>232601</th>\n",
       "      <td>34583586</td>\n",
       "      <td>DBA_2J</td>\n",
       "      <td>gasv</td>\n",
       "      <td>gasv</td>\n",
       "    </tr>\n",
       "    <tr>\n",
       "      <th>718211</th>\n",
       "      <td>35256692</td>\n",
       "      <td>AKR_J</td>\n",
       "      <td>gridss</td>\n",
       "      <td>gridss</td>\n",
       "    </tr>\n",
       "    <tr>\n",
       "      <th>116578</th>\n",
       "      <td>40394548</td>\n",
       "      <td>LP_J</td>\n",
       "      <td>delly</td>\n",
       "      <td>delly</td>\n",
       "    </tr>\n",
       "    <tr>\n",
       "      <th>369821</th>\n",
       "      <td>40480355</td>\n",
       "      <td>C3H_HeJ</td>\n",
       "      <td>delly</td>\n",
       "      <td>delly</td>\n",
       "    </tr>\n",
       "    <tr>\n",
       "      <th>353757</th>\n",
       "      <td>40752016</td>\n",
       "      <td>C3H_HeJ</td>\n",
       "      <td>gridss</td>\n",
       "      <td>gridss</td>\n",
       "    </tr>\n",
       "    <tr>\n",
       "      <th>718004</th>\n",
       "      <td>42825089</td>\n",
       "      <td>AKR_J</td>\n",
       "      <td>gridss</td>\n",
       "      <td>gridss</td>\n",
       "    </tr>\n",
       "    <tr>\n",
       "      <th>497958</th>\n",
       "      <td>46532647</td>\n",
       "      <td>CBA_J</td>\n",
       "      <td>delly</td>\n",
       "      <td>delly</td>\n",
       "    </tr>\n",
       "  </tbody>\n",
       "</table>\n",
       "<p>205349 rows × 4 columns</p>\n",
       "</div>"
      ],
      "text/plain": [
       "          length   strain         tool         Tool\n",
       "118464        50     LP_J    BioGraph*    BioGraph*\n",
       "645305        50    AKR_J       pindel       pindel\n",
       "9870          50     LP_J       pindel       pindel\n",
       "645492        50    AKR_J       pindel       pindel\n",
       "645529        50    AKR_J       pindel       pindel\n",
       "10374         50     LP_J       pindel       pindel\n",
       "645565        50    AKR_J       pindel       pindel\n",
       "457680        50    CBA_J       pindel       pindel\n",
       "352036        50  C3H_HeJ   indelminer   indelminer\n",
       "538151        50  BALB_CJ       pindel       pindel\n",
       "457598        50    CBA_J       pindel       pindel\n",
       "408450        50    CBA_J       pindel       pindel\n",
       "645862        50    AKR_J       pindel       pindel\n",
       "408494        50    CBA_J       pindel       pindel\n",
       "645296        50    AKR_J       pindel       pindel\n",
       "646058        50    AKR_J       pindel       pindel\n",
       "646179        50    AKR_J       pindel       pindel\n",
       "646182        50    AKR_J       pindel       pindel\n",
       "646299        50    AKR_J       pindel       pindel\n",
       "646305        50    AKR_J       pindel       pindel\n",
       "12668         50     LP_J       pindel       pindel\n",
       "457470        50    CBA_J       pindel       pindel\n",
       "646483        50    AKR_J       pindel       pindel\n",
       "344967        50  C3H_HeJ     mistrvar     mistrvar\n",
       "12896         50     LP_J       pindel       pindel\n",
       "344964        50  C3H_HeJ     mistrvar     mistrvar\n",
       "344576        50  C3H_HeJ     mistrvar     mistrvar\n",
       "646592        50    AKR_J       pindel       pindel\n",
       "538236        50  BALB_CJ       pindel       pindel\n",
       "12542         50     LP_J       pindel       pindel\n",
       "...          ...      ...          ...          ...\n",
       "857626  27714415      A_J        delly        delly\n",
       "498234  27714423    CBA_J        delly        delly\n",
       "240832  27714427   DBA_2J        delly        delly\n",
       "353947  27972103  C3H_HeJ       gridss       gridss\n",
       "600705  28073779  BALB_CJ       gridss       gridss\n",
       "613732  30243685  BALB_CJ        delly        delly\n",
       "857610  30243694      A_J        delly        delly\n",
       "118858  34582726   DBA_2J     sniffles     sniffles\n",
       "3997    34582727     LP_J       smoove        lumpy\n",
       "119173  34582727   DBA_2J       smoove        lumpy\n",
       "372821  34582727    CBA_J       smoove        lumpy\n",
       "3801    34582728     LP_J     sniffles     sniffles\n",
       "372497  34582728    CBA_J     sniffles     sniffles\n",
       "118040  34582732     LP_J  breakdancer  breakdancer\n",
       "102674  34582733     LP_J       gridss       gridss\n",
       "227520  34582733   DBA_2J       gridss       gridss\n",
       "483973  34582733    CBA_J       gridss       gridss\n",
       "116586  34582734     LP_J        delly        delly\n",
       "498115  34582734    CBA_J        delly        delly\n",
       "240719  34582734   DBA_2J        delly        delly\n",
       "242472  34582748   DBA_2J  breakdancer  breakdancer\n",
       "489165  34582918    CBA_J         gasv         gasv\n",
       "107818  34582921     LP_J         gasv         gasv\n",
       "232601  34583586   DBA_2J         gasv         gasv\n",
       "718211  35256692    AKR_J       gridss       gridss\n",
       "116578  40394548     LP_J        delly        delly\n",
       "369821  40480355  C3H_HeJ        delly        delly\n",
       "353757  40752016  C3H_HeJ       gridss       gridss\n",
       "718004  42825089    AKR_J       gridss       gridss\n",
       "497958  46532647    CBA_J        delly        delly\n",
       "\n",
       "[205349 rows x 4 columns]"
      ]
     },
     "execution_count": 34,
     "metadata": {},
     "output_type": "execute_result"
    }
   ],
   "source": [
    "df_new"
   ]
  },
  {
   "cell_type": "code",
   "execution_count": 47,
   "metadata": {},
   "outputs": [
    {
     "name": "stderr",
     "output_type": "stream",
     "text": [
      "'c' argument looks like a single numeric RGB or RGBA sequence, which should be avoided as value-mapping will have precedence in case its length matches with 'x' & 'y'.  Please use a 2-D array with a single row if you really want to specify the same RGB or RGBA value for all points.\n",
      "'c' argument looks like a single numeric RGB or RGBA sequence, which should be avoided as value-mapping will have precedence in case its length matches with 'x' & 'y'.  Please use a 2-D array with a single row if you really want to specify the same RGB or RGBA value for all points.\n",
      "'c' argument looks like a single numeric RGB or RGBA sequence, which should be avoided as value-mapping will have precedence in case its length matches with 'x' & 'y'.  Please use a 2-D array with a single row if you really want to specify the same RGB or RGBA value for all points.\n"
     ]
    },
    {
     "name": "stdout",
     "output_type": "stream",
     "text": [
      "Tool\n",
      "BioGraph*          201.0\n",
      "breakdancer        392.0\n",
      "clever             107.0\n",
      "delly              473.0\n",
      "gasv              1404.0\n",
      "gridss             334.5\n",
      "indelminer         198.0\n",
      "lumpy              430.0\n",
      "mistrvar           117.0\n",
      "pindel              64.0\n",
      "popdel             963.0\n",
      "rdxplorer          799.0\n",
      "sniffles           278.5\n",
      "true deletions     398.0\n",
      "Name: length, dtype: float64\n",
      "Index(['gasv', 'popdel', 'rdxplorer', 'delly', 'lumpy', 'true deletions',\n",
      "       'breakdancer', 'gridss', 'sniffles', 'BioGraph*', 'indelminer',\n",
      "       'mistrvar', 'clever', 'pindel'],\n",
      "      dtype='object', name='Tool')\n"
     ]
    },
    {
     "name": "stderr",
     "output_type": "stream",
     "text": [
      "'c' argument looks like a single numeric RGB or RGBA sequence, which should be avoided as value-mapping will have precedence in case its length matches with 'x' & 'y'.  Please use a 2-D array with a single row if you really want to specify the same RGB or RGBA value for all points.\n",
      "'c' argument looks like a single numeric RGB or RGBA sequence, which should be avoided as value-mapping will have precedence in case its length matches with 'x' & 'y'.  Please use a 2-D array with a single row if you really want to specify the same RGB or RGBA value for all points.\n",
      "'c' argument looks like a single numeric RGB or RGBA sequence, which should be avoided as value-mapping will have precedence in case its length matches with 'x' & 'y'.  Please use a 2-D array with a single row if you really want to specify the same RGB or RGBA value for all points.\n",
      "'c' argument looks like a single numeric RGB or RGBA sequence, which should be avoided as value-mapping will have precedence in case its length matches with 'x' & 'y'.  Please use a 2-D array with a single row if you really want to specify the same RGB or RGBA value for all points.\n",
      "'c' argument looks like a single numeric RGB or RGBA sequence, which should be avoided as value-mapping will have precedence in case its length matches with 'x' & 'y'.  Please use a 2-D array with a single row if you really want to specify the same RGB or RGBA value for all points.\n",
      "'c' argument looks like a single numeric RGB or RGBA sequence, which should be avoided as value-mapping will have precedence in case its length matches with 'x' & 'y'.  Please use a 2-D array with a single row if you really want to specify the same RGB or RGBA value for all points.\n",
      "'c' argument looks like a single numeric RGB or RGBA sequence, which should be avoided as value-mapping will have precedence in case its length matches with 'x' & 'y'.  Please use a 2-D array with a single row if you really want to specify the same RGB or RGBA value for all points.\n"
     ]
    },
    {
     "data": {
      "image/png": "[encoded data removed]",
      "text/plain": [
       "<Figure size 576x1440 with 1 Axes>"
      ]
     },
     "metadata": {},
     "output_type": "display_data"
    }
   ],
   "source": [
    "\n",
    "fig1g=sns.set_style(\"ticks\")\n",
    "fig1g=sns.set_context(\"poster\",rc={\"font.size\":30,\"axes.titlesize\":30,\"axes.labelsize\":30})\n",
    "labels=['pindel','clever','mistrvar','indelminer', 'BioGraph*', 'sniffles','gridss','breakdancer','true deletions','lumpy','delly','rdxplorer','popdel','gasv']\n",
    "fig_order=['pindel','clever','mistrvar','indelminer', 'BioGraph*', 'sniffles','gridss','breakdancer','true deletions','smoove','delly','rdxplorer','popdel','gasv']\n",
    "\n",
    "# labels    = ['true deletions','indelminer','sniffles','popdel','mistrvar','lumpy','BioGraph*','breakdancer','delly','gridss','clever','rdxplorer','pindel','gasv']\n",
    "# fig_order =['true deletions','indelminer','sniffles','popdel','mistrvar','smoove','BioGraph*','breakdancer','delly','gridss','clever','rdxplorer','pindel','gasv']\n",
    "df[\"Tool\"] = df[\"tool\"].map(dict(zip(fig_order, labels)))\n",
    "test=df.groupby(\"Tool\")[\"length\"].median()\n",
    "print(test)\n",
    "ranks = df.groupby(\"Tool\")[\"length\"].median().fillna(0).sort_values()[::-1].index\n",
    "print(ranks)\n",
    "pal = []\n",
    "for tool in fig_order:\n",
    "    pal.append(color_map[tool])\n",
    "fig1g = sns.catplot(x=\"length\", y=\"Tool\",kind='boxen',data=df.sort_values(\"length\"),height=20, aspect=.4, palette=pal,order=labels)\n",
    "#fig1g = sns.catplot(x=\"tool\", y=\"length\",kind='boxen',data=df, aspect=12, palette=pal, order=fig_order)\n",
    "# fig1g.invert_yaxis()\n",
    "fig1g.set(xscale=\"log\");\n",
    "fig1g.set(ylabel='SV-caller')\n",
    "fig1g.set(xlabel='Deletion length')\n",
    "# sns.set(rc={'figure.figsize':(1,1)})\n",
    "fig1g=sns.despine()\n",
    "plt.savefig(\"../figures/fig1/fig1g.svg\", bbox_inches='tight')\n",
    "plt.savefig(\"../figures/fig1/fig1g.eps\", bbox_inches='tight')\n",
    "plt.savefig(\"../figures/fig1/fig1g\", bbox_inches='tight')\n",
    "plt.savefig(\"../figures/fig1/fig1g.pdf\", bbox_inches='tight')"
   ]
  },
  {
   "cell_type": "code",
   "execution_count": null,
   "metadata": {},
   "outputs": [],
   "source": []
  },
  {
   "cell_type": "code",
   "execution_count": null,
   "metadata": {},
   "outputs": [],
   "source": []
  }
 ],
 "metadata": {
  "kernelspec": {
   "display_name": "Python 3",
   "language": "python",
   "name": "python3"
  },
  "language_info": {
   "codemirror_mode": {
    "name": "ipython",
    "version": 3
   },
   "file_extension": ".py",
   "mimetype": "text/x-python",
   "name": "python",
   "nbconvert_exporter": "python",
   "pygments_lexer": "ipython3",
   "version": "3.5.2"
  }
 },
 "nbformat": 4,
 "nbformat_minor": 2
}
